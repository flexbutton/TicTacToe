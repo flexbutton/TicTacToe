import pygame
import sys
import random
import time

def check_win(massive, sign):
    zeroes = 0
    for row in massive:
        zeroes += row.count(0)
        if row.count(sign) == 3:
            return sign
    for col in range(3):
        if massive[0][col] == sign and massive[1][col] == sign and massive[2][col] == sign:
            return sign
    if (massive[0][0] == sign and massive[1][1] == sign and massive[2][2] == sign) or (
            massive[0][2] == sign and massive[1][1] == sign and massive[2][0] == sign):
        return sign
    if zeroes == 0:
        return 'draw'
    return False


pygame.init()
size_block = 100
otstup = 15
width = heigth = size_block * 3 + otstup * 4

size_window = (width, heigth)
screen = pygame.display.set_mode(size_window)
pygame.display.set_caption('Крестики-нолики')

black = (0, 0, 0)
red = (255, 100, 100)
blue = (100, 100, 255)
white = (255, 255, 255)
grey = (150, 150, 150)
massive = [[0] * 3 for i in range(3)]
mas = [i for i in range(0, 9)]
move = 0
game_over = False
music = 0

pygame.mixer.init()
sound_o = pygame.mixer.Sound('sound_o.mp3')
sound_x = pygame.mixer.Sound('sound_x.mp3')
sound_victory = pygame.mixer.Sound('sound_victory.mp3')
sound_fail = pygame.mixer.Sound('sound_fail.mp3')

while True:
    for event in pygame.event.get():
        if event.type == pygame.QUIT:
            pygame.quit()
            sys.exit(0)
        elif event.type == pygame.MOUSEBUTTONDOWN and not game_over:
            x_mouse, y_mouse = pygame.mouse.get_pos()
            col = x_mouse // (size_block + otstup)
            row = y_mouse // (size_block + otstup)
            if massive[row][col] == 0:
                if move % 2 == 0:
                    sound_x.play()
                    massive[row][col] = 'x'
                    mas.remove((row) * 3 + col)
                    move += 1
        elif move % 2 != 0 and mas != []  and not game_over:
            time.sleep(0.7)
            z = random.choice(mas)
            mas.remove(z)
            massive[z // 3][z % 3] = 'o'
            sound_o.play()
            move += 1
        elif event.type == pygame.KEYDOWN and event.key == pygame.K_SPACE:
            game_over = False
            massive = [[0] * 3 for i in range(3)]
            mas = [i for i in range(0, 9)]
            move = 0
            music = 0
            screen.fill(black)
    if not game_over:
        for row in range(3):
            for col in range(3):
                if massive[row][col] == 'x':
                    color = red
                elif massive[row][col] == 'o':
                    color = blue
                else:
                    color = white
                x = col * size_block + (col + 1) * otstup
                y = row * size_block + (row + 1) * otstup
                pygame.draw.rect(screen, color, (x, y, size_block, size_block))
                if color == red:
                    pygame.draw.line(screen, black, (x + 15, y + 15), (x - 15 + size_block, y - 15 + size_block), 7)
                    pygame.draw.line(screen, black, (x - 15 + size_block, y + 15), (x + 15, y + size_block - 15), 7)
                if color == blue:
                    pygame.draw.circle(screen, black, (x + size_block // 2, y + size_block // 2), size_block // 2 - 10, 5)
    if (move - 1) % 2 == 0:
        game_over = check_win(massive, 'x')
    else:
        game_over = check_win(massive, 'o')

    font = pygame.font.SysFont('stxingkai', 60)
    if game_over:
        if game_over == 'x' and music != 1:
            screen.fill(red)
            text1 = font.render("Победили 'x'!", True, black)
            sound_victory.play()
            music = 1
        elif game_over == 'o' and music != 1:
            screen.fill(blue)
            text1 = font.render("Победили 'o'!", True, black)
            sound_fail.play()
            music = 1
        elif game_over == 'draw':
            screen.fill(grey)
            text1 = font.render("Ничья!", True, black)
        text_rect = text1.get_rect()
        text_x = screen.get_width() / 2 - text_rect.width / 2
        text_y = screen.get_height() / 2 - text_rect.height / 2
        screen.blit(text1, [text_x, text_y])
    pygame.display.update()